{
 "cells": [
  {
   "cell_type": "code",
   "execution_count": 2,
   "id": "7bbf14ea",
   "metadata": {},
   "outputs": [],
   "source": [
    "from helpers import upload_results\n",
    "\n",
    "upload_results(\n",
    "    \"results/KEN - Images - gemini-2.0-flash - 80_results.csv\",\n",
    "    \"10w_D5gaP7bQNvYUlXDu_7pzZJqqfe5WlhkX-qBO3Ns8\",\n",
    "    \"credentials.json\"\n",
    ")"
   ]
  }
 ],
 "metadata": {
  "kernelspec": {
   "display_name": "lang",
   "language": "python",
   "name": "python3"
  },
  "language_info": {
   "codemirror_mode": {
    "name": "ipython",
    "version": 3
   },
   "file_extension": ".py",
   "mimetype": "text/x-python",
   "name": "python",
   "nbconvert_exporter": "python",
   "pygments_lexer": "ipython3",
   "version": "3.11.11"
  }
 },
 "nbformat": 4,
 "nbformat_minor": 5
}
