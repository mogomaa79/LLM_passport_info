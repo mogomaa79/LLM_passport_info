{
 "cells": [
  {
   "cell_type": "code",
   "execution_count": 2,
   "id": "7bbf14ea",
   "metadata": {},
   "outputs": [
    {
     "ename": "TypeError",
     "evalue": "ResultsAgent.upload_results() takes 2 positional arguments but 5 were given",
     "output_type": "error",
     "traceback": [
      "\u001b[31m---------------------------------------------------------------------------\u001b[39m",
      "\u001b[31mTypeError\u001b[39m                                 Traceback (most recent call last)",
      "\u001b[36mCell\u001b[39m\u001b[36m \u001b[39m\u001b[32mIn[2]\u001b[39m\u001b[32m, line 5\u001b[39m\n\u001b[32m      1\u001b[39m \u001b[38;5;28;01mfrom\u001b[39;00m\u001b[38;5;250m \u001b[39m\u001b[34;01msrc\u001b[39;00m\u001b[34;01m.\u001b[39;00m\u001b[34;01mutils\u001b[39;00m\u001b[34;01m.\u001b[39;00m\u001b[34;01mresults_utils\u001b[39;00m\u001b[38;5;250m \u001b[39m\u001b[38;5;28;01mimport\u001b[39;00m ResultsAgent\n\u001b[32m      3\u001b[39m res_agent = ResultsAgent()\n\u001b[32m----> \u001b[39m\u001b[32m5\u001b[39m res_agent.upload_results(\n\u001b[32m      6\u001b[39m     \u001b[33m\"\u001b[39m\u001b[33mresults/Ethiopia - gemini-2.5-pro-preview-05-06 - 228_results.csv\u001b[39m\u001b[33m\"\u001b[39m,\n\u001b[32m      7\u001b[39m     \u001b[33m\"\u001b[39m\u001b[33m1ljIem8te0tTKrN8N9jOOnPIRh2zMvv2WB_3FBa4ycgA\u001b[39m\u001b[33m\"\u001b[39m,\n\u001b[32m      8\u001b[39m     \u001b[33m\"\u001b[39m\u001b[33mcredentials.json\u001b[39m\u001b[33m\"\u001b[39m,\n\u001b[32m      9\u001b[39m     \u001b[33m\"\u001b[39m\u001b[33mEthiopia\u001b[39m\u001b[33m\"\u001b[39m\n\u001b[32m     10\u001b[39m )\n",
      "\u001b[31mTypeError\u001b[39m: ResultsAgent.upload_results() takes 2 positional arguments but 5 were given"
     ]
    }
   ],
   "source": [
    "from src.utils.results_utils import ResultsAgent\n",
    "\n",
    "res_agent = ResultsAgent()"
   ]
  },
  {
   "cell_type": "code",
   "execution_count": 13,
   "id": "ee43cb11",
   "metadata": {},
   "outputs": [
    {
     "name": "stdout",
     "output_type": "stream",
     "text": [
      "417\n"
     ]
    }
   ],
   "source": [
    "res_agent.country = \"Uganda\"\n",
    "res_agent.upload_results(\n",
    "    \"results/Uganda - gemini-2.5-pro-preview-05-06 - 934_results.csv\",\n",
    ")"
   ]
  }
 ],
 "metadata": {
  "kernelspec": {
   "display_name": "lang",
   "language": "python",
   "name": "python3"
  },
  "language_info": {
   "codemirror_mode": {
    "name": "ipython",
    "version": 3
   },
   "file_extension": ".py",
   "mimetype": "text/x-python",
   "name": "python",
   "nbconvert_exporter": "python",
   "pygments_lexer": "ipython3",
   "version": "3.11.0"
  }
 },
 "nbformat": 4,
 "nbformat_minor": 5
}
