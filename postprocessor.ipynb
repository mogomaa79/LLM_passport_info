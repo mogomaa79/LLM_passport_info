{
 "cells": [
  {
   "cell_type": "code",
   "execution_count": 1,
   "metadata": {},
   "outputs": [],
   "source": [
    "import pandas as pd\n",
    "import json\n",
    "import os\n",
    "import traceback\n",
    "\n",
    "from pprint import pprint\n",
    "from src.utils.passport_processing import postprocess\n",
    "from src.utils.results_utils import ResultsAgent"
   ]
  },
  {
   "cell_type": "code",
   "execution_count": 2,
   "metadata": {},
   "outputs": [],
   "source": [
    "def process_file(file_path):\n",
    "    # Handle both _full_results.csv and _results.csv files\n",
    "    if \"_full_results.csv\" in file_path:\n",
    "        # Replace with the aggregated results file\n",
    "        file_path = file_path.replace('_full_results.csv', '_results.csv')\n",
    "        print(f\"Switching to aggregated results file: {os.path.basename(file_path)}\")\n",
    "    \n",
    "    project_name = os.path.basename(file_path).replace('_results.csv', '')\n",
    "    country = project_name.split(' - ')[0].strip()\n",
    "    print(f\"Detected country/dataset: {country}\")\n",
    "    \n",
    "    # Check if the file exists\n",
    "    if not os.path.exists(file_path):\n",
    "        raise FileNotFoundError(f\"File not found: {file_path}\")\n",
    "    \n",
    "    # Read the CSV file\n",
    "    df = pd.read_csv(file_path)\n",
    "    print(f\"Read {len(df)} rows from {os.path.basename(file_path)}\")\n",
    "    \n",
    "    # Check if 'output' column exists\n",
    "    if 'output' not in df.columns:\n",
    "        print(\"Warning: 'output' column not found. Available columns:\", df.columns.tolist())\n",
    "        # Try to reconstruct output from individual output columns\n",
    "        output_cols = [col for col in df.columns if col.startswith('outputs.')]\n",
    "        if output_cols:\n",
    "            print(f\"Found {len(output_cols)} output columns, reconstructing output JSON...\")\n",
    "            df['output'] = df.apply(\n",
    "                lambda row: json.dumps({col.split('.')[1]: row[col] for col in output_cols if not pd.isna(row[col])}),\n",
    "                axis=1\n",
    "            )\n",
    "        else:\n",
    "            raise ValueError(\"No output data found in the CSV file\")\n",
    "    \n",
    "    # Apply postprocessing to each row\n",
    "    processed_rows = []\n",
    "    \n",
    "    for i, (_, row) in enumerate(df.iterrows()):\n",
    "        try:\n",
    "            # Extract output data from full JSON response field\n",
    "            if pd.isna(row['output']) or row['output'] == '':\n",
    "                print(f\"\\nWarning: Empty output for row {i}, skipping postprocessing\")\n",
    "                processed_rows.append(row)\n",
    "                continue\n",
    "                \n",
    "            output_dict = json.loads(row['output'])\n",
    "            \n",
    "            # Apply postprocessing\n",
    "            from src.utils.passport_processing import postprocess\n",
    "            processed = postprocess(output_dict)\n",
    "            \n",
    "            # Create new row with processed values\n",
    "            new_row = row.copy()\n",
    "            \n",
    "            # Update outputs with processed values\n",
    "            for key, value in processed.items():\n",
    "                col_name = f'outputs.{key}'\n",
    "                new_row[col_name] = value\n",
    "            \n",
    "            processed_rows.append(new_row)\n",
    "            \n",
    "            # Show progress\n",
    "            if (i + 1) % 10 == 0 or i == len(df) - 1:\n",
    "                print(f\"Processed {i + 1}/{len(df)} rows\", end='\\r')\n",
    "        \n",
    "        except Exception as e:\n",
    "            print(f\"\\nError processing row {i}: {e}\")\n",
    "            traceback.print_exc()\n",
    "            processed_rows.append(row)  # Keep original row on error\n",
    "    \n",
    "    print(\"\\nPostprocessing completed\")\n",
    "    \n",
    "    # Create new dataframe with processed data\n",
    "    processed_df = pd.DataFrame(processed_rows)\n",
    "    \n",
    "    # Update the output column with processed values\n",
    "    processed_df['output'] = processed_df.apply(\n",
    "        lambda row: json.dumps({key.split('.')[1]: row[key] for key in row.index if key.startswith(\"outputs.\") and not pd.isna(row[key])}), \n",
    "        axis=1\n",
    "    )\n",
    "    \n",
    "    # Create results directory if it doesn't exist\n",
    "    results_dir = \"processed_results/\"\n",
    "    os.makedirs(results_dir, exist_ok=True)\n",
    "    \n",
    "    # Save the processed results\n",
    "    output_file = f\"{results_dir}{project_name}_processed_results.csv\"\n",
    "    processed_df.to_csv(output_file, index=False)\n",
    "    \n",
    "    return output_file, country\n",
    "\n",
    "def upload_to_sheets(output_file, res_agent, country):\n",
    "    \"\"\"Upload processed results to Google Sheets.\"\"\"\n",
    "    try:\n",
    "        res_agent.country = country\n",
    "        res_agent.upload_results(output_file)\n",
    "\n",
    "    except Exception as e:\n",
    "        print(f\"Error during upload: {e}\")\n",
    "        traceback.print_exc()\n"
   ]
  },
  {
   "cell_type": "code",
   "execution_count": 3,
   "metadata": {},
   "outputs": [
    {
     "name": "stdout",
     "output_type": "stream",
     "text": [
      "Loading consolidated data from ./static/consolidated_data.parquet...\n",
      "Loaded 155168 records from consolidated file.\n"
     ]
    }
   ],
   "source": [
    "res_agent = ResultsAgent()"
   ]
  },
  {
   "cell_type": "code",
   "execution_count": 4,
   "metadata": {},
   "outputs": [
    {
     "name": "stdout",
     "output_type": "stream",
     "text": [
      "Detected country/dataset: Ethiopia\n",
      "Read 198 rows from Ethiopia - gemini-2.5-pro - 765_results.csv\n"
     ]
    },
    {
     "name": "stdout",
     "output_type": "stream",
     "text": [
      "Processed 198/198 rows\n",
      "Postprocessing completed\n",
      "224\n"
     ]
    }
   ],
   "source": [
    "file_path = \"results/Ethiopia - gemini-2.5-pro - 765_results.csv\"\n",
    "\n",
    "output_file, country = process_file(file_path)\n",
    "\n",
    "upload_to_sheets(output_file, res_agent, country)"
   ]
  }
 ],
 "metadata": {
  "kernelspec": {
   "display_name": "venv",
   "language": "python",
   "name": "python3"
  },
  "language_info": {
   "codemirror_mode": {
    "name": "ipython",
    "version": 3
   },
   "file_extension": ".py",
   "mimetype": "text/x-python",
   "name": "python",
   "nbconvert_exporter": "python",
   "pygments_lexer": "ipython3",
   "version": "3.10.12"
  }
 },
 "nbformat": 4,
 "nbformat_minor": 2
}
