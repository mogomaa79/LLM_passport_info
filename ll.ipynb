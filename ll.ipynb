{
 "cells": [
  {
   "cell_type": "code",
   "execution_count": 1,
   "id": "7bbf14ea",
   "metadata": {},
   "outputs": [
    {
     "name": "stdout",
     "output_type": "stream",
     "text": [
      "Loading consolidated data from ./static/consolidated_data.parquet...\n",
      "Loaded 155168 records from consolidated file.\n"
     ]
    }
   ],
   "source": [
    "from src.utils.results_utils import ResultsAgent\n",
    "\n",
    "res_agent = ResultsAgent()"
   ]
  },
  {
   "cell_type": "code",
   "execution_count": 2,
   "id": "ee43cb11",
   "metadata": {},
   "outputs": [
    {
     "name": "stdout",
     "output_type": "stream",
     "text": [
      "2\n"
     ]
    }
   ],
   "source": [
    "res_agent.country = \"Philippines\"\n",
    "res_agent.upload_results(\n",
    "    \"results/Philippines - gemini-2.5-pro - 941_results.csv\",\n",
    ")"
   ]
  }
 ],
 "metadata": {
  "kernelspec": {
   "display_name": "venv",
   "language": "python",
   "name": "python3"
  },
  "language_info": {
   "codemirror_mode": {
    "name": "ipython",
    "version": 3
   },
   "file_extension": ".py",
   "mimetype": "text/x-python",
   "name": "python",
   "nbconvert_exporter": "python",
   "pygments_lexer": "ipython3",
   "version": "3.10.12"
  }
 },
 "nbformat": 4,
 "nbformat_minor": 5
}
