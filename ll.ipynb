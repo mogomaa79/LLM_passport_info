{
 "cells": [
  {
   "cell_type": "code",
   "execution_count": 3,
   "id": "7bbf14ea",
   "metadata": {},
   "outputs": [],
   "source": [
    "from src.utils.results_utils import upload_results\n",
    "\n",
    "upload_results(\n",
    "    \"results/Philippines - gemini-2.5-pro-preview-05-06 - 404_results.csv\",\n",
    "    \"1ljIem8te0tTKrN8N9jOOnPIRh2zMvv2WB_3FBa4ycgA\",\n",
    "    \"credentials.json\",\n",
    "    \"Philippines\"\n",
    ")"
   ]
  }
 ],
 "metadata": {
  "kernelspec": {
   "display_name": "lang",
   "language": "python",
   "name": "python3"
  },
  "language_info": {
   "codemirror_mode": {
    "name": "ipython",
    "version": 3
   },
   "file_extension": ".py",
   "mimetype": "text/x-python",
   "name": "python",
   "nbconvert_exporter": "python",
   "pygments_lexer": "ipython3",
   "version": "3.11.0"
  }
 },
 "nbformat": 4,
 "nbformat_minor": 5
}
