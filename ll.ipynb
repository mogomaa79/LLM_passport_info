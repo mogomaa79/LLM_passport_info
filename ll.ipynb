{
 "cells": [
  {
   "cell_type": "code",
   "execution_count": 1,
   "id": "7bbf14ea",
   "metadata": {},
   "outputs": [],
   "source": [
    "from src.utils.results_utils import upload_results\n",
    "\n",
    "upload_results(\n",
    "    \"results/Ethiopia - gemini-2.0-flash - 27_results.csv\",\n",
    "    \"1ljIem8te0tTKrN8N9jOOnPIRh2zMvv2WB_3FBa4ycgA\",\n",
    "    \"credentials.json\"\n",
    ")"
   ]
  },
  {
   "cell_type": "code",
   "execution_count": 1,
   "id": "aa21ef87",
   "metadata": {},
   "outputs": [
    {
     "data": {
      "text/plain": [
       "{'original number': 'CK158316',\n",
       " 'number': 'CK158316',\n",
       " 'original country': 'KEN',\n",
       " 'country': 'KEN',\n",
       " 'name': 'ANN NJOKI',\n",
       " 'surname': 'MBUTHIA',\n",
       " 'middle name': '',\n",
       " 'original gender': 'F',\n",
       " 'gender': 'F',\n",
       " 'place of birth': 'LIMURU',\n",
       " 'original birth date': '03/12/1995',\n",
       " 'birth date': '03/12/1995',\n",
       " 'issue date': '08/02/2024',\n",
       " 'original expiry date': '08/02/2024',\n",
       " 'expiry date': '07/02/2034',\n",
       " 'mother name': '',\n",
       " 'father name': '',\n",
       " 'place of issue': 'GOVERNMENT OF KENYA',\n",
       " 'country of issue': 'KENYA',\n",
       " 'mrzLine1': 'P<KENMBUTHIA<<ANN<NJOKI<<<<<<<<<<<<<<<<<<<<<',\n",
       " 'mrzLine2': 'CK158316<2KEN9512036F340207432401093<<<<<<60',\n",
       " 'mrzPassportNumber': 'CK158316<2',\n",
       " 'mrzDateOfBirth': '03/12/1995',\n",
       " 'mrzDateOfExpiry': '07/02/2034',\n",
       " 'mrzSex': 'F',\n",
       " 'mrzSurname': 'MBUTHIA',\n",
       " 'mrzGivenNames': 'ANN NJOKI'}"
      ]
     },
     "execution_count": 1,
     "metadata": {},
     "output_type": "execute_result"
    }
   ],
   "source": [
    "from src.utils.passport_processing import postprocess\n",
    "import json\n",
    "\n",
    "with open(\"json.json\", \"r\") as f:\n",
    "    test = json.loads(f.read())\n",
    "postprocess(test)"
   ]
  }
 ],
 "metadata": {
  "kernelspec": {
   "display_name": "lang",
   "language": "python",
   "name": "python3"
  },
  "language_info": {
   "codemirror_mode": {
    "name": "ipython",
    "version": 3
   },
   "file_extension": ".py",
   "mimetype": "text/x-python",
   "name": "python",
   "nbconvert_exporter": "python",
   "pygments_lexer": "ipython3",
   "version": "3.11.0"
  }
 },
 "nbformat": 4,
 "nbformat_minor": 5
}
