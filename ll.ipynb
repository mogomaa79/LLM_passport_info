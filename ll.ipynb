{
 "cells": [
  {
   "cell_type": "code",
   "execution_count": 25,
   "id": "523bfe22",
   "metadata": {},
   "outputs": [],
   "source": [
    "import pandas as pd\n",
    "import json\n",
    "import os"
   ]
  },
  {
   "cell_type": "code",
   "execution_count": 26,
   "id": "70ebf37f",
   "metadata": {},
   "outputs": [],
   "source": [
    "df = pd.read_csv(\"Passport Images experiment -7a1aa1ac.csv\")"
   ]
  },
  {
   "cell_type": "code",
   "execution_count": 27,
   "id": "1e9ff572",
   "metadata": {},
   "outputs": [
    {
     "name": "stderr",
     "output_type": "stream",
     "text": [
      "/var/folders/gz/v96x0q0s7nx7xbztv9gj1p9m0000gn/T/ipykernel_75424/579420797.py:2: SettingWithCopyWarning: \n",
      "A value is trying to be set on a copy of a slice from a DataFrame.\n",
      "Try using .loc[row_indexer,col_indexer] = value instead\n",
      "\n",
      "See the caveats in the documentation: https://pandas.pydata.org/pandas-docs/stable/user_guide/indexing.html#returning-a-view-versus-a-copy\n",
      "  normalized_df[\"inputs.image_id\"] = df[\"inputs\"].apply(lambda x: json.loads(x)[\"image_id\"])\n"
     ]
    }
   ],
   "source": [
    "normalized_df = df[[\"id\", \"outputs\"]]\n",
    "normalized_df[\"inputs.image_id\"] = df[\"inputs\"].apply(lambda x: json.loads(x)[\"image_id\"])"
   ]
  },
  {
   "cell_type": "code",
   "execution_count": 28,
   "id": "e5df5a26",
   "metadata": {},
   "outputs": [
    {
     "name": "stderr",
     "output_type": "stream",
     "text": [
      "/var/folders/gz/v96x0q0s7nx7xbztv9gj1p9m0000gn/T/ipykernel_75424/3777102882.py:1: SettingWithCopyWarning: \n",
      "A value is trying to be set on a copy of a slice from a DataFrame\n",
      "\n",
      "See the caveats in the documentation: https://pandas.pydata.org/pandas-docs/stable/user_guide/indexing.html#returning-a-view-versus-a-copy\n",
      "  normalized_df.dropna(subset=[\"outputs\"], inplace=True)\n"
     ]
    }
   ],
   "source": [
    "normalized_df.dropna(subset=[\"outputs\"], inplace=True)"
   ]
  },
  {
   "cell_type": "code",
   "execution_count": 29,
   "id": "0c1f8333",
   "metadata": {},
   "outputs": [
    {
     "name": "stderr",
     "output_type": "stream",
     "text": [
      "/var/folders/gz/v96x0q0s7nx7xbztv9gj1p9m0000gn/T/ipykernel_75424/2079464094.py:4: SettingWithCopyWarning: \n",
      "A value is trying to be set on a copy of a slice from a DataFrame.\n",
      "Try using .loc[row_indexer,col_indexer] = value instead\n",
      "\n",
      "See the caveats in the documentation: https://pandas.pydata.org/pandas-docs/stable/user_guide/indexing.html#returning-a-view-versus-a-copy\n",
      "  normalized_df[\"loaded_outputs\"] = normalized_df[\"outputs\"].apply(lambda x: json.loads(x))\n",
      "/var/folders/gz/v96x0q0s7nx7xbztv9gj1p9m0000gn/T/ipykernel_75424/2079464094.py:6: SettingWithCopyWarning: \n",
      "A value is trying to be set on a copy of a slice from a DataFrame.\n",
      "Try using .loc[row_indexer,col_indexer] = value instead\n",
      "\n",
      "See the caveats in the documentation: https://pandas.pydata.org/pandas-docs/stable/user_guide/indexing.html#returning-a-view-versus-a-copy\n",
      "  normalized_df[\"outputs.\" + key] = normalized_df[\"loaded_outputs\"].apply(lambda x: x[key])\n",
      "/var/folders/gz/v96x0q0s7nx7xbztv9gj1p9m0000gn/T/ipykernel_75424/2079464094.py:6: SettingWithCopyWarning: \n",
      "A value is trying to be set on a copy of a slice from a DataFrame.\n",
      "Try using .loc[row_indexer,col_indexer] = value instead\n",
      "\n",
      "See the caveats in the documentation: https://pandas.pydata.org/pandas-docs/stable/user_guide/indexing.html#returning-a-view-versus-a-copy\n",
      "  normalized_df[\"outputs.\" + key] = normalized_df[\"loaded_outputs\"].apply(lambda x: x[key])\n",
      "/var/folders/gz/v96x0q0s7nx7xbztv9gj1p9m0000gn/T/ipykernel_75424/2079464094.py:6: SettingWithCopyWarning: \n",
      "A value is trying to be set on a copy of a slice from a DataFrame.\n",
      "Try using .loc[row_indexer,col_indexer] = value instead\n",
      "\n",
      "See the caveats in the documentation: https://pandas.pydata.org/pandas-docs/stable/user_guide/indexing.html#returning-a-view-versus-a-copy\n",
      "  normalized_df[\"outputs.\" + key] = normalized_df[\"loaded_outputs\"].apply(lambda x: x[key])\n",
      "/var/folders/gz/v96x0q0s7nx7xbztv9gj1p9m0000gn/T/ipykernel_75424/2079464094.py:6: SettingWithCopyWarning: \n",
      "A value is trying to be set on a copy of a slice from a DataFrame.\n",
      "Try using .loc[row_indexer,col_indexer] = value instead\n",
      "\n",
      "See the caveats in the documentation: https://pandas.pydata.org/pandas-docs/stable/user_guide/indexing.html#returning-a-view-versus-a-copy\n",
      "  normalized_df[\"outputs.\" + key] = normalized_df[\"loaded_outputs\"].apply(lambda x: x[key])\n",
      "/var/folders/gz/v96x0q0s7nx7xbztv9gj1p9m0000gn/T/ipykernel_75424/2079464094.py:6: SettingWithCopyWarning: \n",
      "A value is trying to be set on a copy of a slice from a DataFrame.\n",
      "Try using .loc[row_indexer,col_indexer] = value instead\n",
      "\n",
      "See the caveats in the documentation: https://pandas.pydata.org/pandas-docs/stable/user_guide/indexing.html#returning-a-view-versus-a-copy\n",
      "  normalized_df[\"outputs.\" + key] = normalized_df[\"loaded_outputs\"].apply(lambda x: x[key])\n",
      "/var/folders/gz/v96x0q0s7nx7xbztv9gj1p9m0000gn/T/ipykernel_75424/2079464094.py:6: SettingWithCopyWarning: \n",
      "A value is trying to be set on a copy of a slice from a DataFrame.\n",
      "Try using .loc[row_indexer,col_indexer] = value instead\n",
      "\n",
      "See the caveats in the documentation: https://pandas.pydata.org/pandas-docs/stable/user_guide/indexing.html#returning-a-view-versus-a-copy\n",
      "  normalized_df[\"outputs.\" + key] = normalized_df[\"loaded_outputs\"].apply(lambda x: x[key])\n",
      "/var/folders/gz/v96x0q0s7nx7xbztv9gj1p9m0000gn/T/ipykernel_75424/2079464094.py:6: SettingWithCopyWarning: \n",
      "A value is trying to be set on a copy of a slice from a DataFrame.\n",
      "Try using .loc[row_indexer,col_indexer] = value instead\n",
      "\n",
      "See the caveats in the documentation: https://pandas.pydata.org/pandas-docs/stable/user_guide/indexing.html#returning-a-view-versus-a-copy\n",
      "  normalized_df[\"outputs.\" + key] = normalized_df[\"loaded_outputs\"].apply(lambda x: x[key])\n",
      "/var/folders/gz/v96x0q0s7nx7xbztv9gj1p9m0000gn/T/ipykernel_75424/2079464094.py:6: SettingWithCopyWarning: \n",
      "A value is trying to be set on a copy of a slice from a DataFrame.\n",
      "Try using .loc[row_indexer,col_indexer] = value instead\n",
      "\n",
      "See the caveats in the documentation: https://pandas.pydata.org/pandas-docs/stable/user_guide/indexing.html#returning-a-view-versus-a-copy\n",
      "  normalized_df[\"outputs.\" + key] = normalized_df[\"loaded_outputs\"].apply(lambda x: x[key])\n",
      "/var/folders/gz/v96x0q0s7nx7xbztv9gj1p9m0000gn/T/ipykernel_75424/2079464094.py:6: SettingWithCopyWarning: \n",
      "A value is trying to be set on a copy of a slice from a DataFrame.\n",
      "Try using .loc[row_indexer,col_indexer] = value instead\n",
      "\n",
      "See the caveats in the documentation: https://pandas.pydata.org/pandas-docs/stable/user_guide/indexing.html#returning-a-view-versus-a-copy\n",
      "  normalized_df[\"outputs.\" + key] = normalized_df[\"loaded_outputs\"].apply(lambda x: x[key])\n",
      "/var/folders/gz/v96x0q0s7nx7xbztv9gj1p9m0000gn/T/ipykernel_75424/2079464094.py:6: SettingWithCopyWarning: \n",
      "A value is trying to be set on a copy of a slice from a DataFrame.\n",
      "Try using .loc[row_indexer,col_indexer] = value instead\n",
      "\n",
      "See the caveats in the documentation: https://pandas.pydata.org/pandas-docs/stable/user_guide/indexing.html#returning-a-view-versus-a-copy\n",
      "  normalized_df[\"outputs.\" + key] = normalized_df[\"loaded_outputs\"].apply(lambda x: x[key])\n",
      "/var/folders/gz/v96x0q0s7nx7xbztv9gj1p9m0000gn/T/ipykernel_75424/2079464094.py:6: SettingWithCopyWarning: \n",
      "A value is trying to be set on a copy of a slice from a DataFrame.\n",
      "Try using .loc[row_indexer,col_indexer] = value instead\n",
      "\n",
      "See the caveats in the documentation: https://pandas.pydata.org/pandas-docs/stable/user_guide/indexing.html#returning-a-view-versus-a-copy\n",
      "  normalized_df[\"outputs.\" + key] = normalized_df[\"loaded_outputs\"].apply(lambda x: x[key])\n",
      "/var/folders/gz/v96x0q0s7nx7xbztv9gj1p9m0000gn/T/ipykernel_75424/2079464094.py:6: SettingWithCopyWarning: \n",
      "A value is trying to be set on a copy of a slice from a DataFrame.\n",
      "Try using .loc[row_indexer,col_indexer] = value instead\n",
      "\n",
      "See the caveats in the documentation: https://pandas.pydata.org/pandas-docs/stable/user_guide/indexing.html#returning-a-view-versus-a-copy\n",
      "  normalized_df[\"outputs.\" + key] = normalized_df[\"loaded_outputs\"].apply(lambda x: x[key])\n",
      "/var/folders/gz/v96x0q0s7nx7xbztv9gj1p9m0000gn/T/ipykernel_75424/2079464094.py:6: SettingWithCopyWarning: \n",
      "A value is trying to be set on a copy of a slice from a DataFrame.\n",
      "Try using .loc[row_indexer,col_indexer] = value instead\n",
      "\n",
      "See the caveats in the documentation: https://pandas.pydata.org/pandas-docs/stable/user_guide/indexing.html#returning-a-view-versus-a-copy\n",
      "  normalized_df[\"outputs.\" + key] = normalized_df[\"loaded_outputs\"].apply(lambda x: x[key])\n",
      "/var/folders/gz/v96x0q0s7nx7xbztv9gj1p9m0000gn/T/ipykernel_75424/2079464094.py:6: SettingWithCopyWarning: \n",
      "A value is trying to be set on a copy of a slice from a DataFrame.\n",
      "Try using .loc[row_indexer,col_indexer] = value instead\n",
      "\n",
      "See the caveats in the documentation: https://pandas.pydata.org/pandas-docs/stable/user_guide/indexing.html#returning-a-view-versus-a-copy\n",
      "  normalized_df[\"outputs.\" + key] = normalized_df[\"loaded_outputs\"].apply(lambda x: x[key])\n",
      "/var/folders/gz/v96x0q0s7nx7xbztv9gj1p9m0000gn/T/ipykernel_75424/2079464094.py:6: SettingWithCopyWarning: \n",
      "A value is trying to be set on a copy of a slice from a DataFrame.\n",
      "Try using .loc[row_indexer,col_indexer] = value instead\n",
      "\n",
      "See the caveats in the documentation: https://pandas.pydata.org/pandas-docs/stable/user_guide/indexing.html#returning-a-view-versus-a-copy\n",
      "  normalized_df[\"outputs.\" + key] = normalized_df[\"loaded_outputs\"].apply(lambda x: x[key])\n",
      "/var/folders/gz/v96x0q0s7nx7xbztv9gj1p9m0000gn/T/ipykernel_75424/2079464094.py:6: SettingWithCopyWarning: \n",
      "A value is trying to be set on a copy of a slice from a DataFrame.\n",
      "Try using .loc[row_indexer,col_indexer] = value instead\n",
      "\n",
      "See the caveats in the documentation: https://pandas.pydata.org/pandas-docs/stable/user_guide/indexing.html#returning-a-view-versus-a-copy\n",
      "  normalized_df[\"outputs.\" + key] = normalized_df[\"loaded_outputs\"].apply(lambda x: x[key])\n",
      "/var/folders/gz/v96x0q0s7nx7xbztv9gj1p9m0000gn/T/ipykernel_75424/2079464094.py:6: SettingWithCopyWarning: \n",
      "A value is trying to be set on a copy of a slice from a DataFrame.\n",
      "Try using .loc[row_indexer,col_indexer] = value instead\n",
      "\n",
      "See the caveats in the documentation: https://pandas.pydata.org/pandas-docs/stable/user_guide/indexing.html#returning-a-view-versus-a-copy\n",
      "  normalized_df[\"outputs.\" + key] = normalized_df[\"loaded_outputs\"].apply(lambda x: x[key])\n",
      "/var/folders/gz/v96x0q0s7nx7xbztv9gj1p9m0000gn/T/ipykernel_75424/2079464094.py:6: SettingWithCopyWarning: \n",
      "A value is trying to be set on a copy of a slice from a DataFrame.\n",
      "Try using .loc[row_indexer,col_indexer] = value instead\n",
      "\n",
      "See the caveats in the documentation: https://pandas.pydata.org/pandas-docs/stable/user_guide/indexing.html#returning-a-view-versus-a-copy\n",
      "  normalized_df[\"outputs.\" + key] = normalized_df[\"loaded_outputs\"].apply(lambda x: x[key])\n",
      "/var/folders/gz/v96x0q0s7nx7xbztv9gj1p9m0000gn/T/ipykernel_75424/2079464094.py:6: SettingWithCopyWarning: \n",
      "A value is trying to be set on a copy of a slice from a DataFrame.\n",
      "Try using .loc[row_indexer,col_indexer] = value instead\n",
      "\n",
      "See the caveats in the documentation: https://pandas.pydata.org/pandas-docs/stable/user_guide/indexing.html#returning-a-view-versus-a-copy\n",
      "  normalized_df[\"outputs.\" + key] = normalized_df[\"loaded_outputs\"].apply(lambda x: x[key])\n",
      "/var/folders/gz/v96x0q0s7nx7xbztv9gj1p9m0000gn/T/ipykernel_75424/2079464094.py:6: SettingWithCopyWarning: \n",
      "A value is trying to be set on a copy of a slice from a DataFrame.\n",
      "Try using .loc[row_indexer,col_indexer] = value instead\n",
      "\n",
      "See the caveats in the documentation: https://pandas.pydata.org/pandas-docs/stable/user_guide/indexing.html#returning-a-view-versus-a-copy\n",
      "  normalized_df[\"outputs.\" + key] = normalized_df[\"loaded_outputs\"].apply(lambda x: x[key])\n",
      "/var/folders/gz/v96x0q0s7nx7xbztv9gj1p9m0000gn/T/ipykernel_75424/2079464094.py:6: SettingWithCopyWarning: \n",
      "A value is trying to be set on a copy of a slice from a DataFrame.\n",
      "Try using .loc[row_indexer,col_indexer] = value instead\n",
      "\n",
      "See the caveats in the documentation: https://pandas.pydata.org/pandas-docs/stable/user_guide/indexing.html#returning-a-view-versus-a-copy\n",
      "  normalized_df[\"outputs.\" + key] = normalized_df[\"loaded_outputs\"].apply(lambda x: x[key])\n",
      "/var/folders/gz/v96x0q0s7nx7xbztv9gj1p9m0000gn/T/ipykernel_75424/2079464094.py:6: SettingWithCopyWarning: \n",
      "A value is trying to be set on a copy of a slice from a DataFrame.\n",
      "Try using .loc[row_indexer,col_indexer] = value instead\n",
      "\n",
      "See the caveats in the documentation: https://pandas.pydata.org/pandas-docs/stable/user_guide/indexing.html#returning-a-view-versus-a-copy\n",
      "  normalized_df[\"outputs.\" + key] = normalized_df[\"loaded_outputs\"].apply(lambda x: x[key])\n",
      "/var/folders/gz/v96x0q0s7nx7xbztv9gj1p9m0000gn/T/ipykernel_75424/2079464094.py:6: SettingWithCopyWarning: \n",
      "A value is trying to be set on a copy of a slice from a DataFrame.\n",
      "Try using .loc[row_indexer,col_indexer] = value instead\n",
      "\n",
      "See the caveats in the documentation: https://pandas.pydata.org/pandas-docs/stable/user_guide/indexing.html#returning-a-view-versus-a-copy\n",
      "  normalized_df[\"outputs.\" + key] = normalized_df[\"loaded_outputs\"].apply(lambda x: x[key])\n",
      "/var/folders/gz/v96x0q0s7nx7xbztv9gj1p9m0000gn/T/ipykernel_75424/2079464094.py:6: SettingWithCopyWarning: \n",
      "A value is trying to be set on a copy of a slice from a DataFrame.\n",
      "Try using .loc[row_indexer,col_indexer] = value instead\n",
      "\n",
      "See the caveats in the documentation: https://pandas.pydata.org/pandas-docs/stable/user_guide/indexing.html#returning-a-view-versus-a-copy\n",
      "  normalized_df[\"outputs.\" + key] = normalized_df[\"loaded_outputs\"].apply(lambda x: x[key])\n",
      "/var/folders/gz/v96x0q0s7nx7xbztv9gj1p9m0000gn/T/ipykernel_75424/2079464094.py:6: SettingWithCopyWarning: \n",
      "A value is trying to be set on a copy of a slice from a DataFrame.\n",
      "Try using .loc[row_indexer,col_indexer] = value instead\n",
      "\n",
      "See the caveats in the documentation: https://pandas.pydata.org/pandas-docs/stable/user_guide/indexing.html#returning-a-view-versus-a-copy\n",
      "  normalized_df[\"outputs.\" + key] = normalized_df[\"loaded_outputs\"].apply(lambda x: x[key])\n",
      "/var/folders/gz/v96x0q0s7nx7xbztv9gj1p9m0000gn/T/ipykernel_75424/2079464094.py:6: SettingWithCopyWarning: \n",
      "A value is trying to be set on a copy of a slice from a DataFrame.\n",
      "Try using .loc[row_indexer,col_indexer] = value instead\n",
      "\n",
      "See the caveats in the documentation: https://pandas.pydata.org/pandas-docs/stable/user_guide/indexing.html#returning-a-view-versus-a-copy\n",
      "  normalized_df[\"outputs.\" + key] = normalized_df[\"loaded_outputs\"].apply(lambda x: x[key])\n",
      "/var/folders/gz/v96x0q0s7nx7xbztv9gj1p9m0000gn/T/ipykernel_75424/2079464094.py:6: SettingWithCopyWarning: \n",
      "A value is trying to be set on a copy of a slice from a DataFrame.\n",
      "Try using .loc[row_indexer,col_indexer] = value instead\n",
      "\n",
      "See the caveats in the documentation: https://pandas.pydata.org/pandas-docs/stable/user_guide/indexing.html#returning-a-view-versus-a-copy\n",
      "  normalized_df[\"outputs.\" + key] = normalized_df[\"loaded_outputs\"].apply(lambda x: x[key])\n"
     ]
    }
   ],
   "source": [
    "output_sample = normalized_df[\"outputs\"].iloc[0]\n",
    "out_dict = json.loads(output_sample)\n",
    "\n",
    "normalized_df[\"loaded_outputs\"] = normalized_df[\"outputs\"].apply(lambda x: json.loads(x))\n",
    "for key in out_dict.keys():\n",
    "    normalized_df[\"outputs.\" + key] = normalized_df[\"loaded_outputs\"].apply(lambda x: x[key])"
   ]
  },
  {
   "cell_type": "code",
   "execution_count": 31,
   "id": "c887502e",
   "metadata": {},
   "outputs": [],
   "source": [
    "normalized_df.to_csv(\"normalized.csv\", index=False)"
   ]
  },
  {
   "cell_type": "code",
   "execution_count": 39,
   "id": "17f3aaa6",
   "metadata": {},
   "outputs": [],
   "source": [
    "temp = pd.read_csv(\"results/Passport Extraction 158873_results.csv\")"
   ]
  },
  {
   "cell_type": "code",
   "execution_count": 40,
   "id": "583683de",
   "metadata": {},
   "outputs": [
    {
     "name": "stdout",
     "output_type": "stream",
     "text": [
      "439\n",
      "354\n"
     ]
    }
   ],
   "source": [
    "print(len(temp))\n",
    "temp.dropna(subset=[\"outputs.country\"], inplace=True)\n",
    "print(len(temp))"
   ]
  },
  {
   "cell_type": "code",
   "execution_count": 41,
   "id": "b276d124",
   "metadata": {},
   "outputs": [],
   "source": [
    "temp.to_csv(\"temp.csv\", index=False)"
   ]
  },
  {
   "cell_type": "code",
   "execution_count": 2,
   "id": "7bbf14ea",
   "metadata": {},
   "outputs": [],
   "source": [
    "from helpers import upload_results\n",
    "\n",
    "upload_results(\n",
    "    \"normalized.csv\",\n",
    "    \"10w_D5gaP7bQNvYUlXDu_7pzZJqqfe5WlhkX-qBO3Ns8\",\n",
    "    \"credentials.json\"\n",
    ")"
   ]
  }
 ],
 "metadata": {
  "kernelspec": {
   "display_name": "lang",
   "language": "python",
   "name": "python3"
  },
  "language_info": {
   "codemirror_mode": {
    "name": "ipython",
    "version": 3
   },
   "file_extension": ".py",
   "mimetype": "text/x-python",
   "name": "python",
   "nbconvert_exporter": "python",
   "pygments_lexer": "ipython3",
   "version": "3.11.11"
  }
 },
 "nbformat": 4,
 "nbformat_minor": 5
}
