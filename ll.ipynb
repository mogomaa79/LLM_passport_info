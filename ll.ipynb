{
 "cells": [
  {
   "cell_type": "code",
   "execution_count": 1,
   "id": "7bbf14ea",
   "metadata": {},
   "outputs": [],
   "source": [
    "from helpers import upload_results\n",
    "\n",
    "upload_results(\n",
    "    \"results/test - gemini-2.0-flash - 90_results.csv\",\n",
    "    \"1ljIem8te0tTKrN8N9jOOnPIRh2zMvv2WB_3FBa4ycgA\",\n",
    "    \"credentials.json\"\n",
    ")"
   ]
  }
 ],
 "metadata": {
  "kernelspec": {
   "display_name": "lang",
   "language": "python",
   "name": "python3"
  },
  "language_info": {
   "codemirror_mode": {
    "name": "ipython",
    "version": 3
   },
   "file_extension": ".py",
   "mimetype": "text/x-python",
   "name": "python",
   "nbconvert_exporter": "python",
   "pygments_lexer": "ipython3",
   "version": "3.11.11"
  }
 },
 "nbformat": 4,
 "nbformat_minor": 5
}
