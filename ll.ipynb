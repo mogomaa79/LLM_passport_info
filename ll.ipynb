{
 "cells": [
  {
   "cell_type": "code",
   "execution_count": 2,
   "id": "7bbf14ea",
   "metadata": {},
   "outputs": [],
   "source": [
    "from src.utils.results_utils import upload_results\n",
    "\n",
    "upload_results(\n",
    "    \"results/Philippines - gemini-2.0-flash - 98_results.csv\",\n",
    "    \"1ljIem8te0tTKrN8N9jOOnPIRh2zMvv2WB_3FBa4ycgA\",\n",
    "    \"credentials.json\",\n",
    "    \"Philippines\"\n",
    ")"
   ]
  },
  {
   "cell_type": "code",
   "execution_count": 2,
   "id": "aa21ef87",
   "metadata": {},
   "outputs": [
    {
     "data": {
      "text/plain": [
       "{'original number': 'P18083430',\n",
       " 'number': 'P1808343C',\n",
       " 'original country': 'PHL',\n",
       " 'country': 'PHL',\n",
       " 'name': 'DORAH MKANG OMBE',\n",
       " 'surname': 'MWADIME',\n",
       " 'middle name': '',\n",
       " 'original gender': 'F',\n",
       " 'gender': 'F',\n",
       " 'place of birth': 'TAITA',\n",
       " 'original birth date': '08/09/1986',\n",
       " 'birth date': '08/09/1986',\n",
       " 'issue date': '13/06/2018',\n",
       " 'original expiry date': '12/06/2028',\n",
       " 'expiry date': '12/06/2028',\n",
       " 'mother name': '',\n",
       " 'father name': '',\n",
       " 'place of issue': 'GOVERNMENT OF KENYA',\n",
       " 'country of issue': 'KENYA',\n",
       " 'mrzLine1': 'P<PHLMWADIME<<DORAH<MKANGOMBE<<<<<<<<<<<<<<<',\n",
       " 'mrzLine2': 'P18083430PHL8609085F280612525084181<<<<<<70',\n",
       " 'mrzPassportNumber': 'P18083430',\n",
       " 'mrzDateOfBirth': '08/09/1986',\n",
       " 'mrzDateOfExpiry': '12/06/2028',\n",
       " 'mrzSex': 'F',\n",
       " 'mrzSurname': 'MWADIME',\n",
       " 'mrzGivenNames': 'DORAH MKANGOMBE'}"
      ]
     },
     "execution_count": 2,
     "metadata": {},
     "output_type": "execute_result"
    }
   ],
   "source": [
    "from src.utils.passport_processing import postprocess\n",
    "import json\n",
    "\n",
    "with open(\"json.json\", \"r\") as f:\n",
    "    test = json.loads(f.read())\n",
    "postprocess(test)"
   ]
  }
 ],
 "metadata": {
  "kernelspec": {
   "display_name": "lang",
   "language": "python",
   "name": "python3"
  },
  "language_info": {
   "codemirror_mode": {
    "name": "ipython",
    "version": 3
   },
   "file_extension": ".py",
   "mimetype": "text/x-python",
   "name": "python",
   "nbconvert_exporter": "python",
   "pygments_lexer": "ipython3",
   "version": "3.11.0"
  }
 },
 "nbformat": 4,
 "nbformat_minor": 5
}
