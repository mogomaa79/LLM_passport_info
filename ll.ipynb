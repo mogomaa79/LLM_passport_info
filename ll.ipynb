{
 "cells": [
  {
   "cell_type": "code",
   "execution_count": 1,
   "id": "b276d124",
   "metadata": {},
   "outputs": [],
   "source": [
    "from PIL import Image"
   ]
  },
  {
   "cell_type": "code",
   "execution_count": 8,
   "id": "e518bff8",
   "metadata": {},
   "outputs": [
    {
     "data": {
      "text/plain": [
       "'filipina_yes/87661_compressed.jpg'"
      ]
     },
     "execution_count": 8,
     "metadata": {},
     "output_type": "execute_result"
    }
   ],
   "source": [
    "def compress_image(image_path, quality=90):\n",
    "    \"\"\"Compress an image using PIL and save it.\"\"\"\n",
    "    with Image.open(image_path) as img:\n",
    "        img = img.convert(\"RGB\")  # Ensure compatibility with JPEG\n",
    "        img.thumbnail((1024, 1024))\n",
    "        compressed_path = image_path.replace('.jpg', '_compressed.jpg').replace('.jpeg', '_compressed.jpg')\n",
    "        img.save(\"compressed.jpeg\", \"JPEG\", quality=quality)\n",
    "        return compressed_path\n",
    "    \n",
    "compress_image(\"filipina_yes/87661.jpg\")"
   ]
  },
  {
   "cell_type": "code",
   "execution_count": 1,
   "id": "7bbf14ea",
   "metadata": {},
   "outputs": [],
   "source": [
    "from helpers import upload_results\n",
    "\n",
    "upload_results(\n",
    "    \"results/Passport Extraction 41213_results.csv\",\n",
    "    \"10w_D5gaP7bQNvYUlXDu_7pzZJqqfe5WlhkX-qBO3Ns8\",\n",
    "    \"credentials.json\"\n",
    ")"
   ]
  }
 ],
 "metadata": {
  "kernelspec": {
   "display_name": "lang",
   "language": "python",
   "name": "python3"
  },
  "language_info": {
   "codemirror_mode": {
    "name": "ipython",
    "version": 3
   },
   "file_extension": ".py",
   "mimetype": "text/x-python",
   "name": "python",
   "nbconvert_exporter": "python",
   "pygments_lexer": "ipython3",
   "version": "3.11.11"
  }
 },
 "nbformat": 4,
 "nbformat_minor": 5
}
